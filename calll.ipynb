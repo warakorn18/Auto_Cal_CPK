{
 "cells": [
  {
   "cell_type": "code",
   "execution_count": 9,
   "metadata": {},
   "outputs": [],
   "source": [
    "import pandas as pd\n",
    "import numpy as np\n",
    "import mysql.connector\n",
    "import psycopg2\n",
    "from datetime import datetime\n"
   ]
  },
  {
   "cell_type": "code",
   "execution_count": null,
   "metadata": {},
   "outputs": [],
   "source": []
  },
  {
   "cell_type": "code",
   "execution_count": 10,
   "metadata": {},
   "outputs": [],
   "source": [
    "# conn = psycopg2.connect(\n",
    "#     host=\"191.191.2.63\",\n",
    "#     database=\"Totle-2nd-Mask\",\n",
    "#     user=\"admin\",\n",
    "#     password=\"Ab123456\")\n",
    "# print(\"Connect to PG Admin 4\")\n",
    "# myconn = conn.cursor()\n",
    "# myconn.execute(\"select * from twomask_cpk\")\n",
    "# reconn = myconn.fetchall()\n"
   ]
  },
  {
   "cell_type": "code",
   "execution_count": 11,
   "metadata": {},
   "outputs": [
    {
     "name": "stdout",
     "output_type": "stream",
     "text": [
      "connect MySQL\n"
     ]
    }
   ],
   "source": [
    "mydb = mysql.connector.connect(\n",
    "  host=\"163.50.57.98\",\n",
    "  user=\"sandbox_user\",\n",
    "  password=\"Admin!@#\"\n",
    "  )\n",
    "print(\"connect MySQL\")\n",
    "\n",
    "mycox = mydb.cursor()\n",
    "mycox.execute(\"select * from mt900.twomask_cpk;\")\n",
    "records = mycox.fetchall()"
   ]
  },
  {
   "cell_type": "code",
   "execution_count": 12,
   "metadata": {},
   "outputs": [
    {
     "name": "stdout",
     "output_type": "stream",
     "text": [
      "        1      2      3      4                    5         6   7\n",
      "0   4.566  0.581  4.609  0.565  2023-06-23 19:21:06  236BF233 NaN\n",
      "1   4.549  0.582  4.585  0.557  2023-06-23 19:21:06  236BF233 NaN\n",
      "2   4.552  0.577  4.630  0.577  2023-06-23 19:21:06  236BF233 NaN\n",
      "3   4.592  0.574  4.623  0.585  2023-06-23 19:21:07  236BF233 NaN\n",
      "4   4.576  0.576  4.658  0.599  2023-06-23 19:21:07  236BF233 NaN\n",
      "5   4.590  0.575  4.638  0.594  2023-06-23 19:21:07  236BF233 NaN\n",
      "6   4.573  0.570  4.622  0.583  2023-06-23 19:21:07  236BF233 NaN\n",
      "7   4.584  0.560  4.611  0.591  2023-06-23 19:21:07  236BF233 NaN\n",
      "8   4.579  0.570  4.638  0.596  2023-06-23 19:21:07  236BF233 NaN\n",
      "9   4.600  0.561  4.618  0.576  2023-06-23 19:21:07  236BF233 NaN\n",
      "10  4.598  0.582  4.611  0.615  2023-06-23 19:21:07  236BF233 NaN\n"
     ]
    }
   ],
   "source": [
    "df = pd.DataFrame(records)\n",
    "\n",
    "df.drop([0], axis=1, inplace=True)\n",
    "\n",
    "df.to_csv(\"a.csv\",index=False)\n",
    "\n",
    "rd = pd.read_csv(\"a.csv\",index_col=False)\n",
    "rd.reset_index(drop=True)\n",
    "x = input('>>>>')\n",
    "rd = rd.loc[rd['6'] == x]\n",
    "# # rd = rd.reset_index()\n",
    "print(rd)"
   ]
  },
  {
   "cell_type": "code",
   "execution_count": 17,
   "metadata": {},
   "outputs": [
    {
     "name": "stdout",
     "output_type": "stream",
     "text": [
      "Ave >> 4.6\n",
      "[4.566 4.549 4.552 4.592 4.576 4.59  4.573 4.584 4.579 4.6   4.598]\n",
      "[0.581 0.582 0.577 0.574 0.576 0.575 0.57  0.56  0.57  0.561 0.582]\n",
      "[4.609 4.585 4.63  4.623 4.658 4.638 4.622 4.611 4.638 4.618 4.611]\n",
      "[0.565 0.557 0.577 0.585 0.599 0.594 0.583 0.591 0.596 0.576 0.615]\n",
      "Cpk-front_pos   >>> 3.6244\n",
      "Cpk-front_width >>> -174.9465\n",
      "Cpk-back_pos    >>> 3.2472\n",
      "Cpk-back_width  >>> -81.6759\n",
      "lost production 236BF233\n"
     ]
    }
   ],
   "source": [
    "LSL = 4.4\n",
    "USL = 4.8\n",
    "number = [LSL,USL]\n",
    "target = sum(number)/len(number)\n",
    "print(\"Ave >>\",target)\n",
    "CPK_lost = x\n",
    "\n",
    "# def Cp(mylist, usl, lsl):\n",
    "#             arr = np.array(mylist)\n",
    "#             arr = arr[~np.isnan(arr)]\n",
    "#             arr = arr.ravel()\n",
    "#             sigma = np.std(arr)\n",
    "#             Cp = float(usl - lsl) / (6 * sigma)\n",
    "#             # print(\"<>>>>>>>>>>>>\",Cp)\n",
    "#             return Cp\n",
    "\n",
    "def Cpk(mylist, usl, lsl):\n",
    "            arr = np.array(mylist)\n",
    "            arr = arr[~np.isnan(arr)]\n",
    "            arr = arr.ravel()\n",
    "            sigma = np.std(arr)\n",
    "            m = np.mean(arr)\n",
    "            Cpu = float(usl - m) / (3 * sigma)\n",
    "            Cpl = float(m - lsl) / (3 * sigma)\n",
    "            Cpk = np.min([Cpu, Cpl])\n",
    "            print(np.array(mylist))\n",
    "            return Cpk\n",
    "\n",
    "# Cp_front_pos = Cp(rd[\"1\"],USL,LSL)\n",
    "# Cp_front_width = Cp(rd[\"2\"],USL,LSL)\n",
    "# Cp_back_pos = Cp(rd[\"3\"],USL,LSL)\n",
    "# Cp_back_width = Cp(rd[\"4\"],USL,LSL)\n",
    "\n",
    "Cpk_front_pos = Cpk(rd[\"1\"],USL,LSL)\n",
    "Cpk_front_width = Cpk(rd[\"2\"],USL,LSL)\n",
    "Cpk_back_pos = Cpk(rd[\"3\"],USL,LSL)\n",
    "Cpk_back_width = Cpk(rd[\"4\"],USL,LSL)\n",
    "\n",
    "datacpk_front_pos = '%.4f'%(Cpk_front_pos)\n",
    "datacpk_front_width = '%.4f'%(Cpk_front_width)\n",
    "datacpk_back_pos = '%.4f'%(Cpk_back_pos)\n",
    "datacpk_back_width = '%.4f'%(Cpk_back_width)\n",
    "\n",
    "print('Cpk-front_pos   >>>',datacpk_front_pos)\n",
    "print('Cpk-front_width >>>',datacpk_front_width)\n",
    "print('Cpk-back_pos    >>>',datacpk_back_pos)\n",
    "print('Cpk-back_width  >>>',datacpk_back_width)\n",
    "print('lost production',CPK_lost)"
   ]
  },
  {
   "cell_type": "code",
   "execution_count": 14,
   "metadata": {},
   "outputs": [
    {
     "name": "stdout",
     "output_type": "stream",
     "text": [
      "date and time is : 2023-07-31 12:31:04.787018\n",
      "Result 1: 31-07-2023  12:31:04\n"
     ]
    }
   ],
   "source": [
    "dt = datetime.now()\n",
    "\n",
    "ts =datetime.timestamp(dt)\n",
    "\n",
    "date_time = datetime.fromtimestamp(ts)\n",
    "\n",
    "times = date_time.strftime(\"%d-%m-%Y  %H:%M:%S\")\n",
    "print(\"date and time is :\",dt)\n",
    "print(\"Result 1:\", times)"
   ]
  },
  {
   "cell_type": "code",
   "execution_count": 15,
   "metadata": {},
   "outputs": [
    {
     "name": "stdout",
     "output_type": "stream",
     "text": [
      "INSERT INTO SUBMIT MY DATABASE PG ADMIN\n"
     ]
    }
   ],
   "source": [
    "connection = psycopg2.connect(user=\"admin\",\n",
    "                                  password=\"Ab123456\",\n",
    "                                  host=\"191.191.2.179\",\n",
    "                                  port=\"5432\",\n",
    "                                  database=\"Totle-2nd-Mask\")\n",
    "# connection\n",
    "\n",
    "cursor = connection.cursor()\n",
    "\n",
    "\n",
    "a = \"INSERT INTO cpk_data(cpk_lost ,cpk_front_pos, cpk_front_width, cpk_back_pos, cpk_back_width,d,times) VALUES (%s, %s, %s, %s, %s, %s, %s)\"\n",
    "b = (CPK_lost, datacpk_front_pos, datacpk_front_width, datacpk_back_pos, datacpk_back_width,dt,times)\n",
    "cursor.execute(a,b)\n",
    "connection.commit()\n",
    "print(\"INSERT INTO SUBMIT MY DATABASE PG ADMIN\")\n"
   ]
  },
  {
   "cell_type": "code",
   "execution_count": null,
   "metadata": {},
   "outputs": [],
   "source": []
  },
  {
   "cell_type": "code",
   "execution_count": 16,
   "metadata": {},
   "outputs": [],
   "source": [
    "# mycursor = mydb.cursor()\n",
    "\n",
    "# sql = \"INSERT INTO mt900.CPK_lost (cpk_lost ,cpk_front_pos, cpk_front_width, cpk_back_pos, cpk_back_width) VALUES (%s, %s, %s, %s, %s)\"\n",
    "# val = (CPK_lost, datacpk_front_pos, datacpk_front_width, datacpk_back_pos, datacpk_back_width)\n",
    "# mycursor.execute(sql, val)\n",
    "\n",
    "# mydb.commit()\n",
    "# print(\"seucsss\")"
   ]
  },
  {
   "cell_type": "code",
   "execution_count": null,
   "metadata": {},
   "outputs": [],
   "source": [
    "\n",
    "    "
   ]
  }
 ],
 "metadata": {
  "kernelspec": {
   "display_name": "Python 3",
   "language": "python",
   "name": "python3"
  },
  "language_info": {
   "codemirror_mode": {
    "name": "ipython",
    "version": 3
   },
   "file_extension": ".py",
   "mimetype": "text/x-python",
   "name": "python",
   "nbconvert_exporter": "python",
   "pygments_lexer": "ipython3",
   "version": "3.11.4"
  },
  "orig_nbformat": 4
 },
 "nbformat": 4,
 "nbformat_minor": 2
}
